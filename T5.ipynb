{
  "nbformat": 4,
  "nbformat_minor": 0,
  "metadata": {
    "colab": {
      "provenance": [],
      "authorship_tag": "ABX9TyP7EAWATVDzCtszWetKz2io",
      "include_colab_link": true
    },
    "kernelspec": {
      "name": "python3",
      "display_name": "Python 3"
    },
    "language_info": {
      "name": "python"
    },
    "widgets": {
      "application/vnd.jupyter.widget-state+json": {
        "c1aaa80c91384f0b9634fb799e1de04d": {
          "model_module": "@jupyter-widgets/controls",
          "model_name": "VBoxModel",
          "model_module_version": "1.5.0",
          "state": {
            "_dom_classes": [],
            "_model_module": "@jupyter-widgets/controls",
            "_model_module_version": "1.5.0",
            "_model_name": "VBoxModel",
            "_view_count": null,
            "_view_module": "@jupyter-widgets/controls",
            "_view_module_version": "1.5.0",
            "_view_name": "VBoxView",
            "box_style": "",
            "children": [
              "IPY_MODEL_c702c7d01c544f4a93cb5456ee090e52",
              "IPY_MODEL_0f64953cdf1b49989ccd4e1e1a0df678",
              "IPY_MODEL_a5d6fa3234fc436eab4c1294ddccdd18",
              "IPY_MODEL_03ccb1f184f34ee28e894b6acd871a5e",
              "IPY_MODEL_ef822f426e354a44950108baf5ef3fa4"
            ],
            "layout": "IPY_MODEL_2fc6d4cdb3744bea9deef28fc196dc95"
          }
        },
        "c702c7d01c544f4a93cb5456ee090e52": {
          "model_module": "@jupyter-widgets/controls",
          "model_name": "HTMLModel",
          "model_module_version": "1.5.0",
          "state": {
            "_dom_classes": [],
            "_model_module": "@jupyter-widgets/controls",
            "_model_module_version": "1.5.0",
            "_model_name": "HTMLModel",
            "_view_count": null,
            "_view_module": "@jupyter-widgets/controls",
            "_view_module_version": "1.5.0",
            "_view_name": "HTMLView",
            "description": "",
            "description_tooltip": null,
            "layout": "IPY_MODEL_45dfff0fb6da4c3999831277b5b381d7",
            "placeholder": "​",
            "style": "IPY_MODEL_80742a16b44c492ca82bbbb9da8aa6f9",
            "value": "<center> <img\nsrc=https://huggingface.co/front/assets/huggingface_logo-noborder.svg\nalt='Hugging Face'> <br> Copy a token from <a\nhref=\"https://huggingface.co/settings/tokens\" target=\"_blank\">your Hugging Face\ntokens page</a> and paste it below. <br> Immediately click login after copying\nyour token or it might be stored in plain text in this notebook file. </center>"
          }
        },
        "0f64953cdf1b49989ccd4e1e1a0df678": {
          "model_module": "@jupyter-widgets/controls",
          "model_name": "PasswordModel",
          "model_module_version": "1.5.0",
          "state": {
            "_dom_classes": [],
            "_model_module": "@jupyter-widgets/controls",
            "_model_module_version": "1.5.0",
            "_model_name": "PasswordModel",
            "_view_count": null,
            "_view_module": "@jupyter-widgets/controls",
            "_view_module_version": "1.5.0",
            "_view_name": "PasswordView",
            "continuous_update": true,
            "description": "Token:",
            "description_tooltip": null,
            "disabled": false,
            "layout": "IPY_MODEL_f827016695ed47aa81e46761e7879528",
            "placeholder": "​",
            "style": "IPY_MODEL_2ce8994b53e5437d9a4b9d387e929aff",
            "value": ""
          }
        },
        "a5d6fa3234fc436eab4c1294ddccdd18": {
          "model_module": "@jupyter-widgets/controls",
          "model_name": "ButtonModel",
          "model_module_version": "1.5.0",
          "state": {
            "_dom_classes": [],
            "_model_module": "@jupyter-widgets/controls",
            "_model_module_version": "1.5.0",
            "_model_name": "ButtonModel",
            "_view_count": null,
            "_view_module": "@jupyter-widgets/controls",
            "_view_module_version": "1.5.0",
            "_view_name": "ButtonView",
            "button_style": "",
            "description": "Login",
            "disabled": false,
            "icon": "",
            "layout": "IPY_MODEL_c4d27122dbe14c5b97e76f572a05a747",
            "style": "IPY_MODEL_e0f65f8b1a3641c1a5815d84bcaf2e60",
            "tooltip": ""
          }
        },
        "03ccb1f184f34ee28e894b6acd871a5e": {
          "model_module": "@jupyter-widgets/controls",
          "model_name": "HTMLModel",
          "model_module_version": "1.5.0",
          "state": {
            "_dom_classes": [],
            "_model_module": "@jupyter-widgets/controls",
            "_model_module_version": "1.5.0",
            "_model_name": "HTMLModel",
            "_view_count": null,
            "_view_module": "@jupyter-widgets/controls",
            "_view_module_version": "1.5.0",
            "_view_name": "HTMLView",
            "description": "",
            "description_tooltip": null,
            "layout": "IPY_MODEL_eeb99dc33fbe4d09a3488ee17d2beeaa",
            "placeholder": "​",
            "style": "IPY_MODEL_246298762fe14ec1a556ec7c846de390",
            "value": "\n<b>Pro Tip:</b> If you don't already have one, you can create a dedicated\n'notebooks' token with 'write' access, that you can then easily reuse for all\nnotebooks. <br> <i>Logging in with your username and password is deprecated and\nwon't be possible anymore in the near future. You can still use them for now by\nclicking below.</i> </center>"
          }
        },
        "ef822f426e354a44950108baf5ef3fa4": {
          "model_module": "@jupyter-widgets/controls",
          "model_name": "ButtonModel",
          "model_module_version": "1.5.0",
          "state": {
            "_dom_classes": [],
            "_model_module": "@jupyter-widgets/controls",
            "_model_module_version": "1.5.0",
            "_model_name": "ButtonModel",
            "_view_count": null,
            "_view_module": "@jupyter-widgets/controls",
            "_view_module_version": "1.5.0",
            "_view_name": "ButtonView",
            "button_style": "",
            "description": "Use password",
            "disabled": false,
            "icon": "",
            "layout": "IPY_MODEL_66e6b570e7d2409989d03f459b9109c9",
            "style": "IPY_MODEL_dc332a93664c4595b0ded530bcb764ed",
            "tooltip": ""
          }
        },
        "2fc6d4cdb3744bea9deef28fc196dc95": {
          "model_module": "@jupyter-widgets/base",
          "model_name": "LayoutModel",
          "model_module_version": "1.2.0",
          "state": {
            "_model_module": "@jupyter-widgets/base",
            "_model_module_version": "1.2.0",
            "_model_name": "LayoutModel",
            "_view_count": null,
            "_view_module": "@jupyter-widgets/base",
            "_view_module_version": "1.2.0",
            "_view_name": "LayoutView",
            "align_content": null,
            "align_items": "center",
            "align_self": null,
            "border": null,
            "bottom": null,
            "display": "flex",
            "flex": null,
            "flex_flow": "column",
            "grid_area": null,
            "grid_auto_columns": null,
            "grid_auto_flow": null,
            "grid_auto_rows": null,
            "grid_column": null,
            "grid_gap": null,
            "grid_row": null,
            "grid_template_areas": null,
            "grid_template_columns": null,
            "grid_template_rows": null,
            "height": null,
            "justify_content": null,
            "justify_items": null,
            "left": null,
            "margin": null,
            "max_height": null,
            "max_width": null,
            "min_height": null,
            "min_width": null,
            "object_fit": null,
            "object_position": null,
            "order": null,
            "overflow": null,
            "overflow_x": null,
            "overflow_y": null,
            "padding": null,
            "right": null,
            "top": null,
            "visibility": null,
            "width": "50%"
          }
        },
        "45dfff0fb6da4c3999831277b5b381d7": {
          "model_module": "@jupyter-widgets/base",
          "model_name": "LayoutModel",
          "model_module_version": "1.2.0",
          "state": {
            "_model_module": "@jupyter-widgets/base",
            "_model_module_version": "1.2.0",
            "_model_name": "LayoutModel",
            "_view_count": null,
            "_view_module": "@jupyter-widgets/base",
            "_view_module_version": "1.2.0",
            "_view_name": "LayoutView",
            "align_content": null,
            "align_items": null,
            "align_self": null,
            "border": null,
            "bottom": null,
            "display": null,
            "flex": null,
            "flex_flow": null,
            "grid_area": null,
            "grid_auto_columns": null,
            "grid_auto_flow": null,
            "grid_auto_rows": null,
            "grid_column": null,
            "grid_gap": null,
            "grid_row": null,
            "grid_template_areas": null,
            "grid_template_columns": null,
            "grid_template_rows": null,
            "height": null,
            "justify_content": null,
            "justify_items": null,
            "left": null,
            "margin": null,
            "max_height": null,
            "max_width": null,
            "min_height": null,
            "min_width": null,
            "object_fit": null,
            "object_position": null,
            "order": null,
            "overflow": null,
            "overflow_x": null,
            "overflow_y": null,
            "padding": null,
            "right": null,
            "top": null,
            "visibility": null,
            "width": null
          }
        },
        "80742a16b44c492ca82bbbb9da8aa6f9": {
          "model_module": "@jupyter-widgets/controls",
          "model_name": "DescriptionStyleModel",
          "model_module_version": "1.5.0",
          "state": {
            "_model_module": "@jupyter-widgets/controls",
            "_model_module_version": "1.5.0",
            "_model_name": "DescriptionStyleModel",
            "_view_count": null,
            "_view_module": "@jupyter-widgets/base",
            "_view_module_version": "1.2.0",
            "_view_name": "StyleView",
            "description_width": ""
          }
        },
        "f827016695ed47aa81e46761e7879528": {
          "model_module": "@jupyter-widgets/base",
          "model_name": "LayoutModel",
          "model_module_version": "1.2.0",
          "state": {
            "_model_module": "@jupyter-widgets/base",
            "_model_module_version": "1.2.0",
            "_model_name": "LayoutModel",
            "_view_count": null,
            "_view_module": "@jupyter-widgets/base",
            "_view_module_version": "1.2.0",
            "_view_name": "LayoutView",
            "align_content": null,
            "align_items": null,
            "align_self": null,
            "border": null,
            "bottom": null,
            "display": null,
            "flex": null,
            "flex_flow": null,
            "grid_area": null,
            "grid_auto_columns": null,
            "grid_auto_flow": null,
            "grid_auto_rows": null,
            "grid_column": null,
            "grid_gap": null,
            "grid_row": null,
            "grid_template_areas": null,
            "grid_template_columns": null,
            "grid_template_rows": null,
            "height": null,
            "justify_content": null,
            "justify_items": null,
            "left": null,
            "margin": null,
            "max_height": null,
            "max_width": null,
            "min_height": null,
            "min_width": null,
            "object_fit": null,
            "object_position": null,
            "order": null,
            "overflow": null,
            "overflow_x": null,
            "overflow_y": null,
            "padding": null,
            "right": null,
            "top": null,
            "visibility": null,
            "width": null
          }
        },
        "2ce8994b53e5437d9a4b9d387e929aff": {
          "model_module": "@jupyter-widgets/controls",
          "model_name": "DescriptionStyleModel",
          "model_module_version": "1.5.0",
          "state": {
            "_model_module": "@jupyter-widgets/controls",
            "_model_module_version": "1.5.0",
            "_model_name": "DescriptionStyleModel",
            "_view_count": null,
            "_view_module": "@jupyter-widgets/base",
            "_view_module_version": "1.2.0",
            "_view_name": "StyleView",
            "description_width": ""
          }
        },
        "c4d27122dbe14c5b97e76f572a05a747": {
          "model_module": "@jupyter-widgets/base",
          "model_name": "LayoutModel",
          "model_module_version": "1.2.0",
          "state": {
            "_model_module": "@jupyter-widgets/base",
            "_model_module_version": "1.2.0",
            "_model_name": "LayoutModel",
            "_view_count": null,
            "_view_module": "@jupyter-widgets/base",
            "_view_module_version": "1.2.0",
            "_view_name": "LayoutView",
            "align_content": null,
            "align_items": null,
            "align_self": null,
            "border": null,
            "bottom": null,
            "display": null,
            "flex": null,
            "flex_flow": null,
            "grid_area": null,
            "grid_auto_columns": null,
            "grid_auto_flow": null,
            "grid_auto_rows": null,
            "grid_column": null,
            "grid_gap": null,
            "grid_row": null,
            "grid_template_areas": null,
            "grid_template_columns": null,
            "grid_template_rows": null,
            "height": null,
            "justify_content": null,
            "justify_items": null,
            "left": null,
            "margin": null,
            "max_height": null,
            "max_width": null,
            "min_height": null,
            "min_width": null,
            "object_fit": null,
            "object_position": null,
            "order": null,
            "overflow": null,
            "overflow_x": null,
            "overflow_y": null,
            "padding": null,
            "right": null,
            "top": null,
            "visibility": null,
            "width": null
          }
        },
        "e0f65f8b1a3641c1a5815d84bcaf2e60": {
          "model_module": "@jupyter-widgets/controls",
          "model_name": "ButtonStyleModel",
          "model_module_version": "1.5.0",
          "state": {
            "_model_module": "@jupyter-widgets/controls",
            "_model_module_version": "1.5.0",
            "_model_name": "ButtonStyleModel",
            "_view_count": null,
            "_view_module": "@jupyter-widgets/base",
            "_view_module_version": "1.2.0",
            "_view_name": "StyleView",
            "button_color": null,
            "font_weight": ""
          }
        },
        "eeb99dc33fbe4d09a3488ee17d2beeaa": {
          "model_module": "@jupyter-widgets/base",
          "model_name": "LayoutModel",
          "model_module_version": "1.2.0",
          "state": {
            "_model_module": "@jupyter-widgets/base",
            "_model_module_version": "1.2.0",
            "_model_name": "LayoutModel",
            "_view_count": null,
            "_view_module": "@jupyter-widgets/base",
            "_view_module_version": "1.2.0",
            "_view_name": "LayoutView",
            "align_content": null,
            "align_items": null,
            "align_self": null,
            "border": null,
            "bottom": null,
            "display": null,
            "flex": null,
            "flex_flow": null,
            "grid_area": null,
            "grid_auto_columns": null,
            "grid_auto_flow": null,
            "grid_auto_rows": null,
            "grid_column": null,
            "grid_gap": null,
            "grid_row": null,
            "grid_template_areas": null,
            "grid_template_columns": null,
            "grid_template_rows": null,
            "height": null,
            "justify_content": null,
            "justify_items": null,
            "left": null,
            "margin": null,
            "max_height": null,
            "max_width": null,
            "min_height": null,
            "min_width": null,
            "object_fit": null,
            "object_position": null,
            "order": null,
            "overflow": null,
            "overflow_x": null,
            "overflow_y": null,
            "padding": null,
            "right": null,
            "top": null,
            "visibility": null,
            "width": null
          }
        },
        "246298762fe14ec1a556ec7c846de390": {
          "model_module": "@jupyter-widgets/controls",
          "model_name": "DescriptionStyleModel",
          "model_module_version": "1.5.0",
          "state": {
            "_model_module": "@jupyter-widgets/controls",
            "_model_module_version": "1.5.0",
            "_model_name": "DescriptionStyleModel",
            "_view_count": null,
            "_view_module": "@jupyter-widgets/base",
            "_view_module_version": "1.2.0",
            "_view_name": "StyleView",
            "description_width": ""
          }
        },
        "66e6b570e7d2409989d03f459b9109c9": {
          "model_module": "@jupyter-widgets/base",
          "model_name": "LayoutModel",
          "model_module_version": "1.2.0",
          "state": {
            "_model_module": "@jupyter-widgets/base",
            "_model_module_version": "1.2.0",
            "_model_name": "LayoutModel",
            "_view_count": null,
            "_view_module": "@jupyter-widgets/base",
            "_view_module_version": "1.2.0",
            "_view_name": "LayoutView",
            "align_content": null,
            "align_items": null,
            "align_self": null,
            "border": null,
            "bottom": null,
            "display": null,
            "flex": null,
            "flex_flow": null,
            "grid_area": null,
            "grid_auto_columns": null,
            "grid_auto_flow": null,
            "grid_auto_rows": null,
            "grid_column": null,
            "grid_gap": null,
            "grid_row": null,
            "grid_template_areas": null,
            "grid_template_columns": null,
            "grid_template_rows": null,
            "height": null,
            "justify_content": null,
            "justify_items": null,
            "left": null,
            "margin": null,
            "max_height": null,
            "max_width": null,
            "min_height": null,
            "min_width": null,
            "object_fit": null,
            "object_position": null,
            "order": null,
            "overflow": null,
            "overflow_x": null,
            "overflow_y": null,
            "padding": null,
            "right": null,
            "top": null,
            "visibility": null,
            "width": null
          }
        },
        "dc332a93664c4595b0ded530bcb764ed": {
          "model_module": "@jupyter-widgets/controls",
          "model_name": "ButtonStyleModel",
          "model_module_version": "1.5.0",
          "state": {
            "_model_module": "@jupyter-widgets/controls",
            "_model_module_version": "1.5.0",
            "_model_name": "ButtonStyleModel",
            "_view_count": null,
            "_view_module": "@jupyter-widgets/base",
            "_view_module_version": "1.2.0",
            "_view_name": "StyleView",
            "button_color": null,
            "font_weight": ""
          }
        },
        "fb6a276fb03841e68c93be4a488715f2": {
          "model_module": "@jupyter-widgets/controls",
          "model_name": "HBoxModel",
          "model_module_version": "1.5.0",
          "state": {
            "_dom_classes": [],
            "_model_module": "@jupyter-widgets/controls",
            "_model_module_version": "1.5.0",
            "_model_name": "HBoxModel",
            "_view_count": null,
            "_view_module": "@jupyter-widgets/controls",
            "_view_module_version": "1.5.0",
            "_view_name": "HBoxView",
            "box_style": "",
            "children": [
              "IPY_MODEL_e66e439cfdb14bea8cfe7facbcf280f7",
              "IPY_MODEL_7b0f91d6dfe145e9969750e6e4df1248",
              "IPY_MODEL_654bf11f8fcf4916b2ba1f095ca4d1af"
            ],
            "layout": "IPY_MODEL_2031a185135b4548b6ff646437badc28"
          }
        },
        "e66e439cfdb14bea8cfe7facbcf280f7": {
          "model_module": "@jupyter-widgets/controls",
          "model_name": "HTMLModel",
          "model_module_version": "1.5.0",
          "state": {
            "_dom_classes": [],
            "_model_module": "@jupyter-widgets/controls",
            "_model_module_version": "1.5.0",
            "_model_name": "HTMLModel",
            "_view_count": null,
            "_view_module": "@jupyter-widgets/controls",
            "_view_module_version": "1.5.0",
            "_view_name": "HTMLView",
            "description": "",
            "description_tooltip": null,
            "layout": "IPY_MODEL_7c1a5783fa5341d8ab480cb15db0deae",
            "placeholder": "​",
            "style": "IPY_MODEL_b35eb945c1644f99bc33671a759308f6",
            "value": "100%"
          }
        },
        "7b0f91d6dfe145e9969750e6e4df1248": {
          "model_module": "@jupyter-widgets/controls",
          "model_name": "FloatProgressModel",
          "model_module_version": "1.5.0",
          "state": {
            "_dom_classes": [],
            "_model_module": "@jupyter-widgets/controls",
            "_model_module_version": "1.5.0",
            "_model_name": "FloatProgressModel",
            "_view_count": null,
            "_view_module": "@jupyter-widgets/controls",
            "_view_module_version": "1.5.0",
            "_view_name": "ProgressView",
            "bar_style": "success",
            "description": "",
            "description_tooltip": null,
            "layout": "IPY_MODEL_e65aa344e6ad4b309ee450449cb41f80",
            "max": 3,
            "min": 0,
            "orientation": "horizontal",
            "style": "IPY_MODEL_0de596cc02c6417c89ea7098406523de",
            "value": 3
          }
        },
        "654bf11f8fcf4916b2ba1f095ca4d1af": {
          "model_module": "@jupyter-widgets/controls",
          "model_name": "HTMLModel",
          "model_module_version": "1.5.0",
          "state": {
            "_dom_classes": [],
            "_model_module": "@jupyter-widgets/controls",
            "_model_module_version": "1.5.0",
            "_model_name": "HTMLModel",
            "_view_count": null,
            "_view_module": "@jupyter-widgets/controls",
            "_view_module_version": "1.5.0",
            "_view_name": "HTMLView",
            "description": "",
            "description_tooltip": null,
            "layout": "IPY_MODEL_cc63869af60945cabb9e62dfb8bd306b",
            "placeholder": "​",
            "style": "IPY_MODEL_ceea616f0e00441cad788b6a6665679e",
            "value": " 3/3 [00:00&lt;00:00, 73.98it/s]"
          }
        },
        "2031a185135b4548b6ff646437badc28": {
          "model_module": "@jupyter-widgets/base",
          "model_name": "LayoutModel",
          "model_module_version": "1.2.0",
          "state": {
            "_model_module": "@jupyter-widgets/base",
            "_model_module_version": "1.2.0",
            "_model_name": "LayoutModel",
            "_view_count": null,
            "_view_module": "@jupyter-widgets/base",
            "_view_module_version": "1.2.0",
            "_view_name": "LayoutView",
            "align_content": null,
            "align_items": null,
            "align_self": null,
            "border": null,
            "bottom": null,
            "display": null,
            "flex": null,
            "flex_flow": null,
            "grid_area": null,
            "grid_auto_columns": null,
            "grid_auto_flow": null,
            "grid_auto_rows": null,
            "grid_column": null,
            "grid_gap": null,
            "grid_row": null,
            "grid_template_areas": null,
            "grid_template_columns": null,
            "grid_template_rows": null,
            "height": null,
            "justify_content": null,
            "justify_items": null,
            "left": null,
            "margin": null,
            "max_height": null,
            "max_width": null,
            "min_height": null,
            "min_width": null,
            "object_fit": null,
            "object_position": null,
            "order": null,
            "overflow": null,
            "overflow_x": null,
            "overflow_y": null,
            "padding": null,
            "right": null,
            "top": null,
            "visibility": null,
            "width": null
          }
        },
        "7c1a5783fa5341d8ab480cb15db0deae": {
          "model_module": "@jupyter-widgets/base",
          "model_name": "LayoutModel",
          "model_module_version": "1.2.0",
          "state": {
            "_model_module": "@jupyter-widgets/base",
            "_model_module_version": "1.2.0",
            "_model_name": "LayoutModel",
            "_view_count": null,
            "_view_module": "@jupyter-widgets/base",
            "_view_module_version": "1.2.0",
            "_view_name": "LayoutView",
            "align_content": null,
            "align_items": null,
            "align_self": null,
            "border": null,
            "bottom": null,
            "display": null,
            "flex": null,
            "flex_flow": null,
            "grid_area": null,
            "grid_auto_columns": null,
            "grid_auto_flow": null,
            "grid_auto_rows": null,
            "grid_column": null,
            "grid_gap": null,
            "grid_row": null,
            "grid_template_areas": null,
            "grid_template_columns": null,
            "grid_template_rows": null,
            "height": null,
            "justify_content": null,
            "justify_items": null,
            "left": null,
            "margin": null,
            "max_height": null,
            "max_width": null,
            "min_height": null,
            "min_width": null,
            "object_fit": null,
            "object_position": null,
            "order": null,
            "overflow": null,
            "overflow_x": null,
            "overflow_y": null,
            "padding": null,
            "right": null,
            "top": null,
            "visibility": null,
            "width": null
          }
        },
        "b35eb945c1644f99bc33671a759308f6": {
          "model_module": "@jupyter-widgets/controls",
          "model_name": "DescriptionStyleModel",
          "model_module_version": "1.5.0",
          "state": {
            "_model_module": "@jupyter-widgets/controls",
            "_model_module_version": "1.5.0",
            "_model_name": "DescriptionStyleModel",
            "_view_count": null,
            "_view_module": "@jupyter-widgets/base",
            "_view_module_version": "1.2.0",
            "_view_name": "StyleView",
            "description_width": ""
          }
        },
        "e65aa344e6ad4b309ee450449cb41f80": {
          "model_module": "@jupyter-widgets/base",
          "model_name": "LayoutModel",
          "model_module_version": "1.2.0",
          "state": {
            "_model_module": "@jupyter-widgets/base",
            "_model_module_version": "1.2.0",
            "_model_name": "LayoutModel",
            "_view_count": null,
            "_view_module": "@jupyter-widgets/base",
            "_view_module_version": "1.2.0",
            "_view_name": "LayoutView",
            "align_content": null,
            "align_items": null,
            "align_self": null,
            "border": null,
            "bottom": null,
            "display": null,
            "flex": null,
            "flex_flow": null,
            "grid_area": null,
            "grid_auto_columns": null,
            "grid_auto_flow": null,
            "grid_auto_rows": null,
            "grid_column": null,
            "grid_gap": null,
            "grid_row": null,
            "grid_template_areas": null,
            "grid_template_columns": null,
            "grid_template_rows": null,
            "height": null,
            "justify_content": null,
            "justify_items": null,
            "left": null,
            "margin": null,
            "max_height": null,
            "max_width": null,
            "min_height": null,
            "min_width": null,
            "object_fit": null,
            "object_position": null,
            "order": null,
            "overflow": null,
            "overflow_x": null,
            "overflow_y": null,
            "padding": null,
            "right": null,
            "top": null,
            "visibility": null,
            "width": null
          }
        },
        "0de596cc02c6417c89ea7098406523de": {
          "model_module": "@jupyter-widgets/controls",
          "model_name": "ProgressStyleModel",
          "model_module_version": "1.5.0",
          "state": {
            "_model_module": "@jupyter-widgets/controls",
            "_model_module_version": "1.5.0",
            "_model_name": "ProgressStyleModel",
            "_view_count": null,
            "_view_module": "@jupyter-widgets/base",
            "_view_module_version": "1.2.0",
            "_view_name": "StyleView",
            "bar_color": null,
            "description_width": ""
          }
        },
        "cc63869af60945cabb9e62dfb8bd306b": {
          "model_module": "@jupyter-widgets/base",
          "model_name": "LayoutModel",
          "model_module_version": "1.2.0",
          "state": {
            "_model_module": "@jupyter-widgets/base",
            "_model_module_version": "1.2.0",
            "_model_name": "LayoutModel",
            "_view_count": null,
            "_view_module": "@jupyter-widgets/base",
            "_view_module_version": "1.2.0",
            "_view_name": "LayoutView",
            "align_content": null,
            "align_items": null,
            "align_self": null,
            "border": null,
            "bottom": null,
            "display": null,
            "flex": null,
            "flex_flow": null,
            "grid_area": null,
            "grid_auto_columns": null,
            "grid_auto_flow": null,
            "grid_auto_rows": null,
            "grid_column": null,
            "grid_gap": null,
            "grid_row": null,
            "grid_template_areas": null,
            "grid_template_columns": null,
            "grid_template_rows": null,
            "height": null,
            "justify_content": null,
            "justify_items": null,
            "left": null,
            "margin": null,
            "max_height": null,
            "max_width": null,
            "min_height": null,
            "min_width": null,
            "object_fit": null,
            "object_position": null,
            "order": null,
            "overflow": null,
            "overflow_x": null,
            "overflow_y": null,
            "padding": null,
            "right": null,
            "top": null,
            "visibility": null,
            "width": null
          }
        },
        "ceea616f0e00441cad788b6a6665679e": {
          "model_module": "@jupyter-widgets/controls",
          "model_name": "DescriptionStyleModel",
          "model_module_version": "1.5.0",
          "state": {
            "_model_module": "@jupyter-widgets/controls",
            "_model_module_version": "1.5.0",
            "_model_name": "DescriptionStyleModel",
            "_view_count": null,
            "_view_module": "@jupyter-widgets/base",
            "_view_module_version": "1.2.0",
            "_view_name": "StyleView",
            "description_width": ""
          }
        }
      }
    },
    "accelerator": "GPU"
  },
  "cells": [
    {
      "cell_type": "markdown",
      "metadata": {
        "id": "view-in-github",
        "colab_type": "text"
      },
      "source": [
        "<a href=\"https://colab.research.google.com/github/hananajiyya/Python-Practice/blob/Others%2C-Deep-Learning%2C-Machine-Learning%2C-Models/T5.ipynb\" target=\"_parent\"><img src=\"https://colab.research.google.com/assets/colab-badge.svg\" alt=\"Open In Colab\"/></a>"
      ]
    },
    {
      "cell_type": "code",
      "execution_count": null,
      "metadata": {
        "colab": {
          "base_uri": "https://localhost:8080/"
        },
        "id": "XyyjI7JaIwCv",
        "outputId": "3a48869f-2924-4e5c-bf87-58a9676ed19b"
      },
      "outputs": [
        {
          "output_type": "stream",
          "name": "stdout",
          "text": [
            "Looking in indexes: https://pypi.org/simple, https://us-python.pkg.dev/colab-wheels/public/simple/\n",
            "Requirement already satisfied: transformers in /usr/local/lib/python3.7/dist-packages (4.19.2)\n",
            "Requirement already satisfied: importlib-metadata in /usr/local/lib/python3.7/dist-packages (from transformers) (4.11.3)\n",
            "Requirement already satisfied: packaging>=20.0 in /usr/local/lib/python3.7/dist-packages (from transformers) (21.3)\n",
            "Requirement already satisfied: numpy>=1.17 in /usr/local/lib/python3.7/dist-packages (from transformers) (1.21.6)\n",
            "Requirement already satisfied: tqdm>=4.27 in /usr/local/lib/python3.7/dist-packages (from transformers) (4.64.0)\n",
            "Requirement already satisfied: filelock in /usr/local/lib/python3.7/dist-packages (from transformers) (3.7.0)\n",
            "Requirement already satisfied: requests in /usr/local/lib/python3.7/dist-packages (from transformers) (2.23.0)\n",
            "Requirement already satisfied: regex!=2019.12.17 in /usr/local/lib/python3.7/dist-packages (from transformers) (2019.12.20)\n",
            "Requirement already satisfied: huggingface-hub<1.0,>=0.1.0 in /usr/local/lib/python3.7/dist-packages (from transformers) (0.7.0)\n",
            "Requirement already satisfied: tokenizers!=0.11.3,<0.13,>=0.11.1 in /usr/local/lib/python3.7/dist-packages (from transformers) (0.12.1)\n",
            "Requirement already satisfied: pyyaml>=5.1 in /usr/local/lib/python3.7/dist-packages (from transformers) (6.0)\n",
            "Requirement already satisfied: typing-extensions>=3.7.4.3 in /usr/local/lib/python3.7/dist-packages (from huggingface-hub<1.0,>=0.1.0->transformers) (4.2.0)\n",
            "Requirement already satisfied: pyparsing!=3.0.5,>=2.0.2 in /usr/local/lib/python3.7/dist-packages (from packaging>=20.0->transformers) (3.0.9)\n",
            "Requirement already satisfied: zipp>=0.5 in /usr/local/lib/python3.7/dist-packages (from importlib-metadata->transformers) (3.8.0)\n",
            "Requirement already satisfied: urllib3!=1.25.0,!=1.25.1,<1.26,>=1.21.1 in /usr/local/lib/python3.7/dist-packages (from requests->transformers) (1.25.11)\n",
            "Requirement already satisfied: chardet<4,>=3.0.2 in /usr/local/lib/python3.7/dist-packages (from requests->transformers) (3.0.4)\n",
            "Requirement already satisfied: certifi>=2017.4.17 in /usr/local/lib/python3.7/dist-packages (from requests->transformers) (2022.5.18.1)\n",
            "Requirement already satisfied: idna<3,>=2.5 in /usr/local/lib/python3.7/dist-packages (from requests->transformers) (2.10)\n",
            "Looking in indexes: https://pypi.org/simple, https://us-python.pkg.dev/colab-wheels/public/simple/\n",
            "Requirement already satisfied: transformers in /usr/local/lib/python3.7/dist-packages (4.19.2)\n",
            "Requirement already satisfied: datasets in /usr/local/lib/python3.7/dist-packages (2.2.2)\n",
            "Requirement already satisfied: filelock in /usr/local/lib/python3.7/dist-packages (from transformers) (3.7.0)\n",
            "Requirement already satisfied: packaging>=20.0 in /usr/local/lib/python3.7/dist-packages (from transformers) (21.3)\n",
            "Requirement already satisfied: tqdm>=4.27 in /usr/local/lib/python3.7/dist-packages (from transformers) (4.64.0)\n",
            "Requirement already satisfied: regex!=2019.12.17 in /usr/local/lib/python3.7/dist-packages (from transformers) (2019.12.20)\n",
            "Requirement already satisfied: requests in /usr/local/lib/python3.7/dist-packages (from transformers) (2.23.0)\n",
            "Requirement already satisfied: importlib-metadata in /usr/local/lib/python3.7/dist-packages (from transformers) (4.11.3)\n",
            "Requirement already satisfied: tokenizers!=0.11.3,<0.13,>=0.11.1 in /usr/local/lib/python3.7/dist-packages (from transformers) (0.12.1)\n",
            "Requirement already satisfied: numpy>=1.17 in /usr/local/lib/python3.7/dist-packages (from transformers) (1.21.6)\n",
            "Requirement already satisfied: pyyaml>=5.1 in /usr/local/lib/python3.7/dist-packages (from transformers) (6.0)\n",
            "Requirement already satisfied: huggingface-hub<1.0,>=0.1.0 in /usr/local/lib/python3.7/dist-packages (from transformers) (0.7.0)\n",
            "Requirement already satisfied: typing-extensions>=3.7.4.3 in /usr/local/lib/python3.7/dist-packages (from huggingface-hub<1.0,>=0.1.0->transformers) (4.2.0)\n",
            "Requirement already satisfied: pyparsing!=3.0.5,>=2.0.2 in /usr/local/lib/python3.7/dist-packages (from packaging>=20.0->transformers) (3.0.9)\n",
            "Requirement already satisfied: responses<0.19 in /usr/local/lib/python3.7/dist-packages (from datasets) (0.18.0)\n",
            "Requirement already satisfied: xxhash in /usr/local/lib/python3.7/dist-packages (from datasets) (3.0.0)\n",
            "Requirement already satisfied: aiohttp in /usr/local/lib/python3.7/dist-packages (from datasets) (3.8.1)\n",
            "Requirement already satisfied: pandas in /usr/local/lib/python3.7/dist-packages (from datasets) (1.3.5)\n",
            "Requirement already satisfied: pyarrow>=6.0.0 in /usr/local/lib/python3.7/dist-packages (from datasets) (6.0.1)\n",
            "Requirement already satisfied: dill<0.3.5 in /usr/local/lib/python3.7/dist-packages (from datasets) (0.3.4)\n",
            "Requirement already satisfied: multiprocess in /usr/local/lib/python3.7/dist-packages (from datasets) (0.70.12.2)\n",
            "Requirement already satisfied: fsspec[http]>=2021.05.0 in /usr/local/lib/python3.7/dist-packages (from datasets) (2022.5.0)\n",
            "Requirement already satisfied: certifi>=2017.4.17 in /usr/local/lib/python3.7/dist-packages (from requests->transformers) (2022.5.18.1)\n",
            "Requirement already satisfied: idna<3,>=2.5 in /usr/local/lib/python3.7/dist-packages (from requests->transformers) (2.10)\n",
            "Requirement already satisfied: chardet<4,>=3.0.2 in /usr/local/lib/python3.7/dist-packages (from requests->transformers) (3.0.4)\n",
            "Requirement already satisfied: urllib3!=1.25.0,!=1.25.1,<1.26,>=1.21.1 in /usr/local/lib/python3.7/dist-packages (from requests->transformers) (1.25.11)\n",
            "Requirement already satisfied: frozenlist>=1.1.1 in /usr/local/lib/python3.7/dist-packages (from aiohttp->datasets) (1.3.0)\n",
            "Requirement already satisfied: asynctest==0.13.0 in /usr/local/lib/python3.7/dist-packages (from aiohttp->datasets) (0.13.0)\n",
            "Requirement already satisfied: attrs>=17.3.0 in /usr/local/lib/python3.7/dist-packages (from aiohttp->datasets) (21.4.0)\n",
            "Requirement already satisfied: multidict<7.0,>=4.5 in /usr/local/lib/python3.7/dist-packages (from aiohttp->datasets) (6.0.2)\n",
            "Requirement already satisfied: yarl<2.0,>=1.0 in /usr/local/lib/python3.7/dist-packages (from aiohttp->datasets) (1.7.2)\n",
            "Requirement already satisfied: async-timeout<5.0,>=4.0.0a3 in /usr/local/lib/python3.7/dist-packages (from aiohttp->datasets) (4.0.2)\n",
            "Requirement already satisfied: aiosignal>=1.1.2 in /usr/local/lib/python3.7/dist-packages (from aiohttp->datasets) (1.2.0)\n",
            "Requirement already satisfied: charset-normalizer<3.0,>=2.0 in /usr/local/lib/python3.7/dist-packages (from aiohttp->datasets) (2.0.12)\n",
            "Requirement already satisfied: zipp>=0.5 in /usr/local/lib/python3.7/dist-packages (from importlib-metadata->transformers) (3.8.0)\n",
            "Requirement already satisfied: pytz>=2017.3 in /usr/local/lib/python3.7/dist-packages (from pandas->datasets) (2022.1)\n",
            "Requirement already satisfied: python-dateutil>=2.7.3 in /usr/local/lib/python3.7/dist-packages (from pandas->datasets) (2.8.2)\n",
            "Requirement already satisfied: six>=1.5 in /usr/local/lib/python3.7/dist-packages (from python-dateutil>=2.7.3->pandas->datasets) (1.15.0)\n",
            "Looking in indexes: https://pypi.org/simple, https://us-python.pkg.dev/colab-wheels/public/simple/\n",
            "Requirement already satisfied: rouge-score in /usr/local/lib/python3.7/dist-packages (0.0.4)\n",
            "Requirement already satisfied: nltk in /usr/local/lib/python3.7/dist-packages (3.2.5)\n",
            "Requirement already satisfied: absl-py in /usr/local/lib/python3.7/dist-packages (from rouge-score) (1.0.0)\n",
            "Requirement already satisfied: six>=1.14.0 in /usr/local/lib/python3.7/dist-packages (from rouge-score) (1.15.0)\n",
            "Requirement already satisfied: numpy in /usr/local/lib/python3.7/dist-packages (from rouge-score) (1.21.6)\n",
            "Looking in indexes: https://pypi.org/simple, https://us-python.pkg.dev/colab-wheels/public/simple/\n",
            "Requirement already satisfied: huggingface_hub in /usr/local/lib/python3.7/dist-packages (0.7.0)\n",
            "Requirement already satisfied: tqdm in /usr/local/lib/python3.7/dist-packages (from huggingface_hub) (4.64.0)\n",
            "Requirement already satisfied: typing-extensions>=3.7.4.3 in /usr/local/lib/python3.7/dist-packages (from huggingface_hub) (4.2.0)\n",
            "Requirement already satisfied: requests in /usr/local/lib/python3.7/dist-packages (from huggingface_hub) (2.23.0)\n",
            "Requirement already satisfied: packaging>=20.9 in /usr/local/lib/python3.7/dist-packages (from huggingface_hub) (21.3)\n",
            "Requirement already satisfied: filelock in /usr/local/lib/python3.7/dist-packages (from huggingface_hub) (3.7.0)\n",
            "Requirement already satisfied: pyyaml>=5.1 in /usr/local/lib/python3.7/dist-packages (from huggingface_hub) (6.0)\n",
            "Requirement already satisfied: importlib-metadata in /usr/local/lib/python3.7/dist-packages (from huggingface_hub) (4.11.3)\n",
            "Requirement already satisfied: pyparsing!=3.0.5,>=2.0.2 in /usr/local/lib/python3.7/dist-packages (from packaging>=20.9->huggingface_hub) (3.0.9)\n",
            "Requirement already satisfied: zipp>=0.5 in /usr/local/lib/python3.7/dist-packages (from importlib-metadata->huggingface_hub) (3.8.0)\n",
            "Requirement already satisfied: idna<3,>=2.5 in /usr/local/lib/python3.7/dist-packages (from requests->huggingface_hub) (2.10)\n",
            "Requirement already satisfied: urllib3!=1.25.0,!=1.25.1,<1.26,>=1.21.1 in /usr/local/lib/python3.7/dist-packages (from requests->huggingface_hub) (1.25.11)\n",
            "Requirement already satisfied: certifi>=2017.4.17 in /usr/local/lib/python3.7/dist-packages (from requests->huggingface_hub) (2022.5.18.1)\n",
            "Requirement already satisfied: chardet<4,>=3.0.2 in /usr/local/lib/python3.7/dist-packages (from requests->huggingface_hub) (3.0.4)\n"
          ]
        }
      ],
      "source": [
        "!pip3 install transformers\n",
        "!pip install transformers datasets\n",
        "!pip install rouge-score nltk\n",
        "!pip install huggingface_hub"
      ]
    },
    {
      "cell_type": "code",
      "source": [
        "from huggingface_hub import notebook_login\n",
        "\n",
        "notebook_login()"
      ],
      "metadata": {
        "colab": {
          "base_uri": "https://localhost:8080/",
          "height": 471,
          "referenced_widgets": [
            "c1aaa80c91384f0b9634fb799e1de04d",
            "c702c7d01c544f4a93cb5456ee090e52",
            "0f64953cdf1b49989ccd4e1e1a0df678",
            "a5d6fa3234fc436eab4c1294ddccdd18",
            "03ccb1f184f34ee28e894b6acd871a5e",
            "ef822f426e354a44950108baf5ef3fa4",
            "2fc6d4cdb3744bea9deef28fc196dc95",
            "45dfff0fb6da4c3999831277b5b381d7",
            "80742a16b44c492ca82bbbb9da8aa6f9",
            "f827016695ed47aa81e46761e7879528",
            "2ce8994b53e5437d9a4b9d387e929aff",
            "c4d27122dbe14c5b97e76f572a05a747",
            "e0f65f8b1a3641c1a5815d84bcaf2e60",
            "eeb99dc33fbe4d09a3488ee17d2beeaa",
            "246298762fe14ec1a556ec7c846de390",
            "66e6b570e7d2409989d03f459b9109c9",
            "dc332a93664c4595b0ded530bcb764ed"
          ]
        },
        "id": "bpVoWNCeJmdr",
        "outputId": "a4a968d2-2134-44a3-91d6-ddb078ac65f3"
      },
      "execution_count": null,
      "outputs": [
        {
          "output_type": "display_data",
          "data": {
            "text/plain": [
              "VBox(children=(HTML(value='<center> <img\\nsrc=https://huggingface.co/front/assets/huggingface_logo-noborder.sv…"
            ],
            "application/vnd.jupyter.widget-view+json": {
              "version_major": 2,
              "version_minor": 0,
              "model_id": "c1aaa80c91384f0b9634fb799e1de04d"
            }
          },
          "metadata": {}
        }
      ]
    },
    {
      "cell_type": "code",
      "source": [
        "!apt install git-lfs\n",
        "!git config --global user.email \"hana.najiyya@gmail.com\"\n",
        "!git config --global user.name \"hananajiyya\""
      ],
      "metadata": {
        "colab": {
          "base_uri": "https://localhost:8080/"
        },
        "id": "bZCD8fikJoqE",
        "outputId": "777d9001-6452-4e8a-d896-f5918e653d2e"
      },
      "execution_count": null,
      "outputs": [
        {
          "output_type": "stream",
          "name": "stdout",
          "text": [
            "Reading package lists... Done\n",
            "Building dependency tree       \n",
            "Reading state information... Done\n",
            "git-lfs is already the newest version (2.3.4-1).\n",
            "The following package was automatically installed and is no longer required:\n",
            "  libnvidia-common-460\n",
            "Use 'apt autoremove' to remove it.\n",
            "0 upgraded, 0 newly installed, 0 to remove and 42 not upgraded.\n"
          ]
        }
      ]
    },
    {
      "cell_type": "code",
      "source": [
        "import transformers\n",
        "\n",
        "print(transformers.__version__)"
      ],
      "metadata": {
        "colab": {
          "base_uri": "https://localhost:8080/"
        },
        "id": "TGtpg8qCJ6LQ",
        "outputId": "e4ffd96d-6037-4a58-b04f-c91746ce3d2c"
      },
      "execution_count": null,
      "outputs": [
        {
          "output_type": "stream",
          "name": "stdout",
          "text": [
            "4.19.2\n"
          ]
        }
      ]
    },
    {
      "cell_type": "code",
      "source": [
        "model_checkpoint = \"t5-large\""
      ],
      "metadata": {
        "id": "X4RrO8BdKSzD"
      },
      "execution_count": null,
      "outputs": []
    },
    {
      "cell_type": "code",
      "source": [
        "from datasets import load_dataset, load_metric\n",
        "\n",
        "raw_datasets = load_dataset(\"csebuetnlp/xlsum\",'indonesian')\n",
        "metric = load_metric(\"rouge\")"
      ],
      "metadata": {
        "colab": {
          "base_uri": "https://localhost:8080/",
          "height": 86,
          "referenced_widgets": [
            "fb6a276fb03841e68c93be4a488715f2",
            "e66e439cfdb14bea8cfe7facbcf280f7",
            "7b0f91d6dfe145e9969750e6e4df1248",
            "654bf11f8fcf4916b2ba1f095ca4d1af",
            "2031a185135b4548b6ff646437badc28",
            "7c1a5783fa5341d8ab480cb15db0deae",
            "b35eb945c1644f99bc33671a759308f6",
            "e65aa344e6ad4b309ee450449cb41f80",
            "0de596cc02c6417c89ea7098406523de",
            "cc63869af60945cabb9e62dfb8bd306b",
            "ceea616f0e00441cad788b6a6665679e"
          ]
        },
        "id": "3Oad_wsHKcqe",
        "outputId": "9b58edb7-409c-4d64-8fcd-be2dc705fc7c"
      },
      "execution_count": null,
      "outputs": [
        {
          "output_type": "stream",
          "name": "stderr",
          "text": [
            "WARNING:datasets.builder:Reusing dataset xlsum (/root/.cache/huggingface/datasets/csebuetnlp___xlsum/indonesian/2.0.0/518ab0af76048660bcc2240ca6e8692a977c80e384ffb18fdddebaca6daebdce)\n"
          ]
        },
        {
          "output_type": "display_data",
          "data": {
            "text/plain": [
              "  0%|          | 0/3 [00:00<?, ?it/s]"
            ],
            "application/vnd.jupyter.widget-view+json": {
              "version_major": 2,
              "version_minor": 0,
              "model_id": "fb6a276fb03841e68c93be4a488715f2"
            }
          },
          "metadata": {}
        }
      ]
    },
    {
      "cell_type": "code",
      "source": [
        "raw_datasets"
      ],
      "metadata": {
        "colab": {
          "base_uri": "https://localhost:8080/"
        },
        "id": "wX3616bBKeTA",
        "outputId": "89e43648-96c9-40bf-905c-22e5e6f8e430"
      },
      "execution_count": null,
      "outputs": [
        {
          "output_type": "execute_result",
          "data": {
            "text/plain": [
              "DatasetDict({\n",
              "    train: Dataset({\n",
              "        features: ['id', 'url', 'title', 'summary', 'text'],\n",
              "        num_rows: 38242\n",
              "    })\n",
              "    test: Dataset({\n",
              "        features: ['id', 'url', 'title', 'summary', 'text'],\n",
              "        num_rows: 4780\n",
              "    })\n",
              "    validation: Dataset({\n",
              "        features: ['id', 'url', 'title', 'summary', 'text'],\n",
              "        num_rows: 4780\n",
              "    })\n",
              "})"
            ]
          },
          "metadata": {},
          "execution_count": 60
        }
      ]
    },
    {
      "cell_type": "code",
      "source": [
        "raw_datasets[\"test\"][0]"
      ],
      "metadata": {
        "colab": {
          "base_uri": "https://localhost:8080/"
        },
        "id": "bPgE4XJVLayP",
        "outputId": "f8904fb0-6eaa-4c80-898e-1061322e4c40"
      },
      "execution_count": null,
      "outputs": [
        {
          "output_type": "execute_result",
          "data": {
            "text/plain": [
              "{'id': '141105_seni_vangogh',\n",
              " 'summary': 'Sebuah mahakarya Vincent van Gogh, yang dilukis pada akhir kehidupannya, terjual di New York sebesar US$61,8 juta atau Rp752 miliar.',\n",
              " 'text': 'Still Life, Vase with Daisies, and Poppies dibuat beberapa bulan sebelum van Gogh meninggal. Still Life, Vase with Daisies, and Poppies melampaui perkiraan sebelumnya US$50 juta pada pelelangan di Sotheby. Lukisan Van Gogh dibuat di rumah dokter Prancisnya hanya beberapa bulan sebelum dirinya meninggal di tahun 1890. Karyanya ini adalah satu dari beberapa lukisannya yang terjual saat Van Gogh masih hidup. Rekor penjualan pelukis Belanda pada balai lelang adalah US$82,5 juta lewat Portrait of Dr Gachet. Lukisan tentang dokternya ini terjual pada tahun 1990. Pada pelelangan ini patung Alberto Giacometti dari tahun1951 terjual seharga lebih dari US$100 juta, di bawah rekor karya seniman Swiss itu senilai US$104,3 juta. Sementara pematung Amedeo Modigliani mencatat rekor baru lewat Tete patung kepala yang dibuat di tahun 1911-1912 dari batu kapur terjual lebih US$70 juta.',\n",
              " 'title': 'Lukisan bunga Van Gogh terjual US$61,8 juta',\n",
              " 'url': 'https://www.bbc.com/indonesia/majalah/2014/11/141105_seni_vangogh'}"
            ]
          },
          "metadata": {},
          "execution_count": 61
        }
      ]
    },
    {
      "cell_type": "code",
      "source": [
        "import datasets\n",
        "import random\n",
        "import pandas as pd\n",
        "from IPython.display import display, HTML\n",
        "\n",
        "\n",
        "def show_random_elements(dataset, num_examples=5):\n",
        "    assert num_examples <= len(\n",
        "        dataset\n",
        "    ), \"Can't pick more elements than there are in the dataset.\"\n",
        "    picks = []\n",
        "    for _ in range(num_examples):\n",
        "        pick = random.randint(0, len(dataset) - 1)\n",
        "        while pick in picks:\n",
        "            pick = random.randint(0, len(dataset) - 1)\n",
        "        picks.append(pick)\n",
        "\n",
        "    df = pd.DataFrame(dataset[picks])\n",
        "    df = df[['summary','text']]\n",
        "    df.dropna()\n",
        "    for column, typ in dataset.features.items():\n",
        "        if isinstance(typ, datasets.ClassLabel):\n",
        "            df[column] = df[column].transform(lambda i: typ.names[i])\n",
        "    display(HTML(df.to_html()))"
      ],
      "metadata": {
        "id": "nOnveJ6oLb6l"
      },
      "execution_count": null,
      "outputs": []
    },
    {
      "cell_type": "code",
      "source": [
        "show_random_elements(raw_datasets[\"test\"])"
      ],
      "metadata": {
        "colab": {
          "base_uri": "https://localhost:8080/",
          "height": 1000
        },
        "id": "kXkNP_PeL-fu",
        "outputId": "b0523993-ce1c-4416-b71e-14c900c0563c"
      },
      "execution_count": null,
      "outputs": [
        {
          "output_type": "display_data",
          "data": {
            "text/plain": [
              "<IPython.core.display.HTML object>"
            ],
            "text/html": [
              "<table border=\"1\" class=\"dataframe\">\n",
              "  <thead>\n",
              "    <tr style=\"text-align: right;\">\n",
              "      <th></th>\n",
              "      <th>summary</th>\n",
              "      <th>text</th>\n",
              "    </tr>\n",
              "  </thead>\n",
              "  <tbody>\n",
              "    <tr>\n",
              "      <th>0</th>\n",
              "      <td>Kongres III PDI Perjuangan sampai hari ketiga hampir tidak ada pembahasan soal Ketua Umum sebab Megawati Soekarnoputri sudah dipastikan akan kembali menjadi ketua umum PDI Perjuangan, bahkan sebelum kongres dimulai.</td>\n",
              "      <td>PDI Perjuangan akan tetap mengambil oposisi terhadap pemerintah Meski memilih Mega kembali PDI Perjuangan membantah telah terjadi pengkultusan terhadap putri sulung Bung Karno itu. Tidak seperti kongres sebelumnya tak ada calon ketua lain yang bermunculan atau bahkan sampai membuat kongres tandingan. Kali ini Guruh Soekarnoputra dicalonkan oleh sejumlah perwakilan cabang namun tertutup peluangnya untuk menjadi ketua umum karena hanya dicalonkan oleh empat cabang dari 395 cabang yang memiliki suara di Kongres. Guruh menilai proses ini tidak demokrastis. Peluang calon lain untuk muncul pun sulit, sebab melalui sistem 'voting block' utusan kongres wajib membawa berita acara yang berisi nama calon ketua PDI Perjuangan untuk lima tahun mendatang. Pengamat menilai dipilihnya Megawati sebagai ketua umum PDI Perjuangan merupakan bentuk pengkultusan terhadap sosok putri sulung Presiden pertama RI Soekarno. Meski kalangan internal PDIP menyebut hanya Mega yang bisa menjadi perekat partai. Seperti disampaikan pengamat politik dari universitas Pendidikan Nasional Denpasar Bali, Nyoman Subanda. Tokoh PDIP Taufik Kiemas membantah terpilihnya Mega sebagai ketua umum PDIP selama tiga periode merupakan bentuk pengkultusan. Menurut Taufik, dalam periode kepemimpinan 2010-2015, PDIP akan menjalankan proses regenerasi yang merupakan kebutuhan partai. Sementara itu, masalah regenerasi dalam tubuh partai juga disadari oleh politikus muda PDI Perjuangan Budiman Sujatmiko tetapi untuk periode sekarang masih membutuhkan Mega sebagai alat yang sangat penting untuk perjuangan partai. Budiman mengatakan periode ketiga kepemimpinan Mega ini akan digunakan untuk memoderinisasi manajemen partai. Kongres III PDIP di Sanur Bali ini, diharapkan oleh sejumlah kalangan dapat menghasilkan terobosan baru, seperti mengubah manajeman politik lebih modern sehingga partai ini tak hanya bergantung kepada Megawati yang menjadi simbol ideologis.</td>\n",
              "    </tr>\n",
              "    <tr>\n",
              "      <th>1</th>\n",
              "      <td>Daniel Sturridge mengatakan para pemain Liverpool ingin sekali mempersembahkan gelar juara Liga Primer untuk kapten Steven Gerrard.</td>\n",
              "      <td>Steven Gerrard dianggap sebagai teladan sempurna bagi pemain-pemain muda. Liverpool berada di puncak klasemen menyusul kemenangan 4-0 atas Tottenham Hotspur dan Sturridge mengakui salah satu motivasi ekstra para pemain Liverpool saat ini adalah mempersembahkan gelar juara untuk Gerrard. Gelar juara Liga Primer menjadi satu-satunya gelar dalam negeri yang belum diraih Gerrard. \"Kalau kami juara, maka itu untuk Gerrard. Ia berjasa besar membesarkan klub dan sepantasnya meraih gelar juara Liga Primer,\" ujar Sturridge. \"Setiap pemain Liverpool ingin sekali mempersembahkan gelar juara ini untuk Gerrard,\" tambahnya. Sturridge menjelaskan Gerrard adalah teladan sempurna bagi para pemain muda Liverpool. \"Ia pemimpin sejati. Ia hidup dan mati untuk klub. Ia teladan sempurna bagi para pemain muda, baik di Liverpool maupun di tim nasional,\" kata Sturridge. Kompetisi Liga Primer musim 2013-2014 tinggal menyisakan enam pertandingan bagi Liverpool. Sturridge mengatakan bahwa timnya sekarang mementingkan hasil, bukan keindahan bermain di lapangan, untuk memastikan gelar juara bisa diraih.</td>\n",
              "    </tr>\n",
              "    <tr>\n",
              "      <th>2</th>\n",
              "      <td>Perguruan tinggi khusus perempuan di ibu kota Arab Saudi, Riyadh, Universitas Princess Nourah bint Abdulrahman, membolehkan semua mahasiswi untuk datang dan pergi tanpa didampingi mahram.</td>\n",
              "      <td>Universitas mengatakan mahasiswi dibolehkan datang dan pergi tanpa mahram untuk memudahkan mahasiswi sendiri dan juga keluarga mereka. Keputusan universitas ini dianggap sebagai langkah untuk melonggarkan sistem mahram untuk kaum perempuan. Pihak universitas mengatakan langkah ini ditempuh untuk memudahkan aktivitas mahasiswa dan keluarga mereka dan juga untuk mengurangi kemacetan di luar kampus. Laporan media Saudi menyebutkan universitas lain mempertimbangkan untuk mengikuti jejak Universitas Princess Nourah bint Abdulrahman. Para pegiat di Saudi sudah sejak lama mengampanyekan penentangan terhadap sistem marham yang membuat kaum perempuan tidak bisa melakukan kegiatan sehari-hari tanpa izin dari keluarga atau wali laki-laki mereka. Dua tahun lalu ribuan warga Saudi menandatangani petisi daring menyerukan pemerintah menghapus sistem mahram. \"Perempuan mestinya diperlakukan seperti halnya warga negara kebanyakan. Perempuan harus mendapatkan hak warga negara secara penuh,\" kata aktivis Aziza Al-Yousef , ketika itu. Kian longgar Para perempuan Saudi menentang sistem perwalian yang mewajibkan mereka minta izin. Dalam wawancara dengan koran Inggris The Guardian, ia mengatakan sistem mahram \"tidak hanya menjadi masalah perempuan, tapi juga bagi kaum laki-laki\". Berdasarkan undang-undang di Saudi, perempuan harus mendapatkan izin dari wali laki-laki saat bepergian, menikah, atau keluar dari penjara. Izin dari wali atau keluarga laki-laki ini kadang juga diperlukan ketika perempuan mengakses layanan kesehatan atau ketika ingin mendapatkan pekerjaan. Secara perlahan-lahan sistem ini diperlonggar. Februari lalu, perempuan dibolehkan memulai bisnis tanpa izin suami atau keluarga laki-laki dalam upaya menggairahkan dunia usaha. Kementerian perdagangan dan investasi mengatakan perempuan bisa meluncurkan bisnis dan mengakses layanan elektronik dari pemerintah tanpa harus mendapatkan izin dari wali.</td>\n",
              "    </tr>\n",
              "    <tr>\n",
              "      <th>3</th>\n",
              "      <td>Cina memutuskan untuk mengakhiri kebijakan satu anak yang telah berlaku selama puluhan tahun, lapor kantor berita Xinhua.</td>\n",
              "      <td>Semua pasangan Cina sekarang diizinkan memiliki dua anak, lapor kantor berita Xinhua. Semua pasangan sekarang diizinkan memiliki dua anak, kata kantor berita pemerintah itu mengutip pernyataan Partai Komunis. Kebijakan kontroversial tersebut diterapkan pada tahun 1979 untuk menurunkan tingkat kelahiran negara itu dan memperlambat tingkat pertumbuhan penduduk. Meskipun demikian, kekhawatiran terkait penduduk Cina yang menua menimbulkan tekanan bagi terjadinya perubahan. Kebijakan satu anak diperkirakan telah mencegah kelahiran 400 juta anak sejak pertama kali diterapkan. Pasangan yang melanggar peraturan menghadapi berbagai jenis hukuman, mulai dari denda dan kehilangan pekerjaan sampai pemaksaan melakukan aborsi. Tetapi, selama ini sejumlah provinsi telah memperlonggar peraturan, sementara ahli kependudukan dan sosiolog menyatakan kekhawatiran tentang peningkatan ongkos sosial dan penurunan jumlah pekerja. Partai Komunis mulai memperlonggar peraturan nasional dua tahun lalu, mengizinkan pasangan yang salah satunya adalah anak tunggal, memiliki anak kedua. Saat ini sekitar 30% penduduk Cina berumur di atas 50 tahun.</td>\n",
              "    </tr>\n",
              "    <tr>\n",
              "      <th>4</th>\n",
              "      <td>Menerangi sebanyak mungkin desa dengan pembangkit listrik mini tenaga air. Itulah salah satu mimpi Tri Mumpuni.</td>\n",
              "      <td>Heyder Affan BBC Indonesia Tri Mumpuni telah menjadi motor pembangunan sekitar 60 pembangkit listrik tenaga air, mikrohidro Bagi perempuan yang satu ini mimpi itu bisa diwujudkan dengan kemauan dan kerja keras. Dan, dia telah menunjukkannya dengan menjadi motor pembangunan setidaknya 60 pembangkit listrik tenaga air yang ramah lingkungan di berbagai pelosok desa di Indonesia. Atas aktivitasnya yang bersifat swadaya energi ini, perempuan kelahiran 1964 ini kemudian dijuluki sebagai \"penerang desa\". Bulan April lalu, Puni -- demikian sapaan akrabnya -- dan delapan orang wirausaha Indonesia lainnya diundang khusus oleh Presiden Amerika Serikat Barack Obama. Namun, menurut Puni, listrik sebenarnya bukanlah tujuan utamanya, melainkan membangun potensi desa agar berdaya secara ekonomi. \"Ini tidak berhenti di tingkat teknologi, tapi kita juga harus selalu maju dan bersemangat untuk mengembangkan masyarakat,\" tegas Tri Mumpuni kepada BBC Indonesia, di kantornya di kawasan Kebayoran Lama, Jakarta Barat. Tertarik aktivitas suami Menurut catatan, hingga pertengahan 2010, ada sekitar 60 pembangkit listrik tenaga air berskala kecil atau mikrohidro telah dibangunnya di berbagai wilayah di Indonesia. DengarDurasi: 15:00 Berawal dari aktivitas suaminya di bidang kelistrikan ini di tahun 90-an, Tri Mumpuni kemudian tertarik untuk terjun ke bidang yang sama. Namun, dia memilih penekanan pada sisi pemberdayaan masyarakat pada pembangunan pembangkit listrik tenaga air ini. \"Saya rasa ini pembangunan pedesaan yang komprehensif. Ya dapat teknologinya, juga dapat menjaga hutannya, sekalian bisa meningkatkan hasil panennya,\" paparnya. Dengan semangat itulah, Puni memutuskan untuk membantu masyarakat di pedesaan terpencil yang belum menikmati listrik. Dibantu suaminya, alumni Institut Pertanian Bogor (IPB) ini kemudian memanfaatkan sumber daya alam berupa air sebagai energi alternatif. \"Karena di Indonesia air itu melimpah dan relatif murah,\" katanya. Melalui lembaga Institut Bisnis dan Ekonomi Kerakyatan yang dipimpinnya, dia antara lain memanfaatkan aliran sungai untuk membangkitkan listrik berkekuatan kecil atau mikrohidro, yang disebutnya ramah lingkungan. Upaya ini disebutnya swadaya energi, karena dilakukan tanpa uluran bantuan pemerintah. Sebagai modal awal, Tri Mumpuni meminjam dana dari bank atau mencari bantuan dari sejumlah negara melalui kantor kedutaannya di Jakarta. Salah-satu langkah awalnya yang disebutnya berhasil adalah membuat pembangkit listrik mikrohidro di Desa Curuagung, Subang, Jawa Barat, di tahun 90-an. Dengan memanfaatkan Sungai Ciasem, Puni dan warga desa setempat membangun pembangkit listrik berkekuatan 13 kilowatt, yang akhirnya dapat menerangi 121 rumah di desa tersebut. \"Walau modal awalnya hanya Rp 44 juta,\" kata ibu dua anak ini. Tidak gampang Puni bersama peraih Nobel Perdamaian, Muhammad Yunus Setelah lebih dari sepuluh tahun berkecimpung di dunia ini, Tri Mumpuni kini mengaku telah membangun pembangkit tenaga air mini di sekitar 60 lokasi di Indonesia. Tetapi perempuan kelahiran 1964 ini mengaku apa yang dilakukannya tidak semudah membalikkan telapak tangan. Selain kesiapan teknis yang membutuhkan perencanaan matang, Puni menyebut kehadiran masyarakat di dalam pembangunan ini sebagai faktor paling penting. \"Dan ini pekerjaan panjang,\" tandasnya. \"Kita perlu endurance, perlu passion, komitmen. Jika gagal, diulangi lagi. Gagal diulangi lagi! Karena, kita bicara development, kita bicara membangun manusia,\" jelas Tri Mumpuni, yang atas berbagai upayanya ini meraih predikat Climate Hero 2005 dari Wild World Fund International. Dia kemudian menyebut aktivitasnya tidak semata membangun piranti fisik seperti pembangkit listrik bertenaga air, tetapi selanjutnya bagaimana memberdayakan masyarakat setempat. \"Bagaimana agar pembangkit listrik yang sudah kita berikan kepada masyarakat itu bisa dikelola, dioperasikan, dirawat dan lebih penting lagi dimiliki oleh rakyat,\" jelasnya. Jika gagal, diulangi lagi. Gagal diulangi lagi! Tri Mumpuni Agar upaya ini membuahkan hasil, demikian Tri Mumpuni, masyarakat dilibatkan sejak awal sebelum pembangkit itu dibangun. \"Kita gelar rapat untuk membentuk organisasi di level desa. Karena mereka yang kelak akan mengelola, mengoperasikan dan merawat, sekalian menentukan tarif untuk membeli listrik itu,\" ungkap Tri Mumpuni. Persoalannya tidak semua warga bersedia membayar iuran secara rutin. Padahal uang itu nantinya digunakan untuk membayar operator yang menjalankan turbin dan sebagai biaya perawatan. Di sinilah tantangannya, kata Puni. \"Banyak orang kaya dan mampu, tapi nggak mau membayar. Ada orang mau bayar tapi nggak mampu membayar. Nah bagaimana seni mengotak-atik kedua itu.\" Tolok ukur keberhasilan dari program pemberdayaan masyarakat ini, menurut perempuan kelahiran Semarang, Jawa Tengah ini adalah \"apabila masyarakat mampu menjamin keberlangsungan pembangkitnya\". \"Dan saya senang karena ada beberapa desa yang sudah memiliki listrik dalam rentang setahun, punya tabungan sampai Rp 160 juta,\" ungkapnya. Meskipun demikian Puni mengaku tidak semua programnya berjalan seperti diharapkan. \"Yang 20 persen itu bukan gagal, karena kalau gagal itu artinya rusak dan tak termanfaatkan.\" Dipuji Presiden Obama Diundang bersama delapan wirausahawan Indonesia dalam acara bertajuk Presidential Summit on Entreprenership di Washington, Amerika Serikat, bulan April lalu, Tri Mumpuni dipuji oleh Presiden As Barack Obama. [Dia] telah membuat sekitar 60 desa terpencil menjadi terang-benderang Barack Obama Dalam pidatonya, secara khusus Obama menyebutnya \"telah membuat sekitar 60 desa terpencil menjadi terang-benderang\". \"Kita mendapatkan seorang wirausahawan sosial seperti Tri Mumpuni, yang telah membantu masyarakat desa di Indonesia mendapatkan listrik dan pendapatn dari pembangkit listrik tenaga air,\" ujar Obama dalam pidatonya, yang langsung disambut tepuk tangan para hadirin. Obama kemudian mengucapkan terima kasih kepadanya. Bersama peraih Nobel Perdamaian 2006 Muhammad Yunus, Puni secara khusus menjadi panelis dalam acara itu. Di dalam panel itu Puni mengaku puas, \"karena saya mengatakan di hadapan orang-orang kapitalis, bahwa 'my business is beyond profit and beyond money. Yang penting bagaimana mem-empowering orang lain dan membawa manfaat.\" Birokrat bikin frustasi Dalam wawancara kepada BBC, Tri Mumpuni mengaku tidak pernah berputus asa saat berhubungan dengan masyarakat, selama ini. Tetapi yang acap membuatnya frustasi adalah \"perilaku birokrat\" yang disebutnya \"mempersulit interaksi saya dengan rakyat, merongrong dan bahkan terkadang minta uang\". Dia kemudian mengungkapkan pengalamannya saat membangun pembangkit listrik bertenaga air di sebuah daerah. Di tempat itu, seorang aparat mendatangi warga dan meminta uang. Tanpa sepengetahuan dirinya, warga ternyata tidak dapat menolak permintaan aparat itu dengan berbagai alasan. \"Saya marah dan saya katakan 'kenapa diberi dan siapa yang menyuruh dia datang kemari'. Saya terpaksa mengganti (uang warga). Mungkin nilai uang itu tidak besar yaitu sekitar Rp 200-300 ribu, tapi moral di belakang itu yang tidak dapat saya terima!\" Pengalaman seperti ini di mata Puni \"menghabiskan energi\". \"Makanya saya katakan bangsa ini nggak maju, karena mental aparatnya seperti itu\". Hubungi kami * Kolom harus diisi Tandai Apakah ini?</td>\n",
              "    </tr>\n",
              "  </tbody>\n",
              "</table>"
            ]
          },
          "metadata": {}
        }
      ]
    },
    {
      "cell_type": "code",
      "source": [
        "metric"
      ],
      "metadata": {
        "colab": {
          "base_uri": "https://localhost:8080/"
        },
        "id": "UBoUy1iiMCrV",
        "outputId": "ab36e5b4-45f6-4f5c-e740-9b5eef89c978"
      },
      "execution_count": null,
      "outputs": [
        {
          "output_type": "execute_result",
          "data": {
            "text/plain": [
              "Metric(name: \"rouge\", features: {'predictions': Value(dtype='string', id='sequence'), 'references': Value(dtype='string', id='sequence')}, usage: \"\"\"\n",
              "Calculates average rouge scores for a list of hypotheses and references\n",
              "Args:\n",
              "    predictions: list of predictions to score. Each prediction\n",
              "        should be a string with tokens separated by spaces.\n",
              "    references: list of reference for each prediction. Each\n",
              "        reference should be a string with tokens separated by spaces.\n",
              "    rouge_types: A list of rouge types to calculate.\n",
              "        Valid names:\n",
              "        `\"rouge{n}\"` (e.g. `\"rouge1\"`, `\"rouge2\"`) where: {n} is the n-gram based scoring,\n",
              "        `\"rougeL\"`: Longest common subsequence based scoring.\n",
              "        `\"rougeLSum\"`: rougeLsum splits text using `\"\n",
              "\"`.\n",
              "        See details in https://github.com/huggingface/datasets/issues/617\n",
              "    use_stemmer: Bool indicating whether Porter stemmer should be used to strip word suffixes.\n",
              "    use_aggregator: Return aggregates if this is set to True\n",
              "Returns:\n",
              "    rouge1: rouge_1 (precision, recall, f1),\n",
              "    rouge2: rouge_2 (precision, recall, f1),\n",
              "    rougeL: rouge_l (precision, recall, f1),\n",
              "    rougeLsum: rouge_lsum (precision, recall, f1)\n",
              "Examples:\n",
              "\n",
              "    >>> rouge = datasets.load_metric('rouge')\n",
              "    >>> predictions = [\"hello there\", \"general kenobi\"]\n",
              "    >>> references = [\"hello there\", \"general kenobi\"]\n",
              "    >>> results = rouge.compute(predictions=predictions, references=references)\n",
              "    >>> print(list(results.keys()))\n",
              "    ['rouge1', 'rouge2', 'rougeL', 'rougeLsum']\n",
              "    >>> print(results[\"rouge1\"])\n",
              "    AggregateScore(low=Score(precision=1.0, recall=1.0, fmeasure=1.0), mid=Score(precision=1.0, recall=1.0, fmeasure=1.0), high=Score(precision=1.0, recall=1.0, fmeasure=1.0))\n",
              "    >>> print(results[\"rouge1\"].mid.fmeasure)\n",
              "    1.0\n",
              "\"\"\", stored examples: 0)"
            ]
          },
          "metadata": {},
          "execution_count": 64
        }
      ]
    },
    {
      "cell_type": "code",
      "source": [
        "from transformers import AutoTokenizer\n",
        "\n",
        "tokenizer = AutoTokenizer.from_pretrained(model_checkpoint)"
      ],
      "metadata": {
        "colab": {
          "base_uri": "https://localhost:8080/"
        },
        "id": "7ENtAohyMcPx",
        "outputId": "7f6cfbc4-fd9a-42b6-eb07-7350b7a0c9d7"
      },
      "execution_count": null,
      "outputs": [
        {
          "output_type": "stream",
          "name": "stderr",
          "text": [
            "/usr/local/lib/python3.7/dist-packages/transformers/models/t5/tokenization_t5_fast.py:161: FutureWarning: This tokenizer was incorrectly instantiated with a model max length of 512 which will be corrected in Transformers v5.\n",
            "For now, this behavior is kept to avoid breaking backwards compatibility when padding/encoding with `truncation is True`.\n",
            "- Be aware that you SHOULD NOT rely on t5-large automatically truncating your input to 512 when padding/encoding.\n",
            "- If you want to encode/pad to sequences longer than 512 you can either instantiate this tokenizer with `model_max_length` or pass `max_length` when encoding/padding.\n",
            "- To avoid this warning, please instantiate this tokenizer with `model_max_length` set to your preferred value.\n",
            "  FutureWarning,\n"
          ]
        }
      ]
    },
    {
      "cell_type": "code",
      "source": [
        "if model_checkpoint in [\"t5-small\", \"t5-base\", \"t5-large\", \"t5-3b\", \"t5-11b\"]:\n",
        "    prefix = \"summarize: \"\n",
        "else:\n",
        "    prefix = \"\""
      ],
      "metadata": {
        "id": "fcT9a3utMthC"
      },
      "execution_count": null,
      "outputs": []
    },
    {
      "cell_type": "code",
      "source": [
        "tokenizer.model_max_length"
      ],
      "metadata": {
        "colab": {
          "base_uri": "https://localhost:8080/"
        },
        "id": "Vb6zNfMUQ7jF",
        "outputId": "f0383acf-76a5-418c-f24d-c560ee9d2a6a"
      },
      "execution_count": null,
      "outputs": [
        {
          "output_type": "execute_result",
          "data": {
            "text/plain": [
              "512"
            ]
          },
          "metadata": {},
          "execution_count": 68
        }
      ]
    },
    {
      "cell_type": "code",
      "source": [
        "max_input_length = 1024\n",
        "max_target_length = 512\n",
        "\n",
        "\n",
        "def preprocess_function(examples):\n",
        "    inputs = [prefix + doc for doc in examples[\"text\"]]\n",
        "    model_inputs = tokenizer(inputs, max_length=tokenizer.model_max_length, truncation=True)\n",
        "\n",
        "    # Setup the tokenizer for targets\n",
        "    with tokenizer.as_target_tokenizer():\n",
        "        labels = tokenizer(\n",
        "            examples[\"summary\"], max_length=tokenizer.model_max_length, truncation=True\n",
        "        )\n",
        "\n",
        "    model_inputs[\"labels\"] = labels[\"input_ids\"]\n",
        "    return model_inputs"
      ],
      "metadata": {
        "id": "y-ahgqSbMvb4"
      },
      "execution_count": null,
      "outputs": []
    },
    {
      "cell_type": "code",
      "source": [
        "preprocess_function(raw_datasets[\"train\"][:2])"
      ],
      "metadata": {
        "colab": {
          "base_uri": "https://localhost:8080/"
        },
        "id": "BG2kJmXuMxoP",
        "outputId": "ff78c280-a481-4c0c-ca59-7b534bd25c00"
      },
      "execution_count": null,
      "outputs": [
        {
          "output_type": "execute_result",
          "data": {
            "text/plain": [
              "{'input_ids': [[21603, 10, 2043, 8478, 127, 3304, 146, 9, 42, 1468, 3, 449, 40, 1598, 9, 123, 157, 413, 142, 18956, 6, 3, 7, 1194, 2551, 108, 7, 6820, 9, 8411, 9, 107, 10823, 49, 4243, 15, 107, 3304, 4353, 4612, 142, 1625, 9, 107, 1076, 26, 9, 4665, 3304, 399, 7396, 17, 152, 5, 3953, 7922, 1191, 107, 3, 63, 1468, 1076, 8758, 1598, 34, 76, 10447, 17, 152, 16686, 1227, 783, 78, 7, 23, 138, 5, 925, 7922, 1191, 107, 3, 1152, 40, 1665, 3, 17, 1639, 5748, 76, 3, 2551, 107, 6, 1076, 9, 1939, 157, 7637, 17, 9, 1076, 122, 77, 1191, 157, 142, 115, 9, 22898, 158, 7, 49, 17, 9, 95, 9, 1720, 9, 5, 6619, 1639, 3, 354, 12204, 10, 5622, 440, 1227, 8044, 9, 3464, 4550, 63, 15, 12534, 7922, 1191, 107, 3, 4849, 15, 2780, 3, 17, 23, 115, 9, 18, 17, 23, 115, 9, 1076, 8758, 1598, 5, 3963, 12204, 7922, 1191, 107, 34, 76, 3, 1258, 2782, 3, 32, 109, 107, 1394, 76, 144, 76, 1227, 46, 2046, 9, 3856, 158, 7, 49, 17, 9, 3, 3768, 4550, 8765, 22498, 5, 3159, 142, 15076, 144, 140, 8478, 127, 3304, 7922, 1191, 107, 50, 77, 3, 63, 1468, 3, 354, 12204, 1076, 8758, 1598, 1227, 813, 2260, 23, 3, 1152, 4143, 9, 5, 2776, 1191, 107, 7102, 9, 7, 3, 935, 413, 9, 3304, 239, 9, 3, 5310, 157, 3, 4849, 35, 12594, 23, 3, 26, 138, 265, 95, 9, 1720, 9, 3, 1050, 9, 8758, 9, 152, 1227, 8642, 13877, 5, 8055, 23, 615, 122, 9, 8642, 13877, 6, 140, 5952, 2168, 7922, 1191, 107, 3, 9, 26, 138, 9, 107, 19753, 2637, 5, 493, 1152, 9750, 3, 2729, 173, 1227, 8642, 13877, 3, 354, 12204, 140, 5952, 2168, 7922, 1191, 107, 73, 17, 1598, 3, 1050, 883, 40, 76, 152, 95, 9, 1720, 9, 5, 1], [21603, 10, 749, 63, 15, 157, 283, 5934, 1923, 12594, 348, 18, 312, 19272, 12455, 302, 3, 324, 122, 9, 107, 3, 26, 10109, 1191, 3304, 6, 3, 13363, 202, 73, 17, 1598, 3, 5543, 23, 26, 127, 4485, 450, 3, 18, 14851, 144, 3, 11346, 2780, 649, 23, 276, 8544, 5, 1276, 51, 3478, 8765, 152, 3, 5319, 7, 9, 2002, 9, 410, 35, 15774, 3304, 142, 7893, 9, 23, 3, 76, 22498, 10351, 1639, 158, 935, 77, 17, 9, 2618, 1266, 1583, 29, 446, 12948, 2142, 26, 32, 26, 32, 177, 2565, 3, 7, 9, 7, 9, 2002, 204, 2128, 813, 63, 15, 157, 3811, 4102, 9, 3, 17, 9, 107, 202, 1360, 1076, 6757, 1725, 3, 13363, 202, 356, 9, 107, 202, 142, 2370, 440, 3795, 9, 7, 3, 18603, 17, 76, 34, 76, 6, 968, 1227, 46, 2046, 6820, 9, 1227, 9022, 17, 649, 23, 836, 89, 2046, 749, 63, 15, 157, 22946, 7, 10571, 6318, 177, 2565, 491, 9, 7, 152, 158, 9369, 1191, 152, 361, 7, 23, 157, 29, 63, 9, 3, 17, 23, 26, 1639, 836, 4665, 15688, 83, 9, 23, 142, 2370, 440, 3, 2729, 1408, 138, 6289, 18, 8584, 5, 1276, 348, 122, 1258, 7, 152, 813, 63, 15, 157, 3, 4849, 15, 2780, 3, 26, 173, 16296, 3304, 142, 1625, 9, 107, 3, 9, 26, 6820, 9, 3, 15, 7480, 9, 7, 23, 480, 6158, 4629, 1227, 480, 1194, 15, 5288, 1793, 127, 2644, 1016, 2106, 26, 1468, 1915, 15, 4470, 30019, 29, 5, 2566, 17, 76, 9, 4485, 18773, 1639, 7, 152, 9, 480, 6158, 4629, 3129, 107, 63, 76, 412, 235, 51, 32, 1076, 5497, 9, 3304, 3, 1152, 7664, 291, 3304, 3, 15, 7480, 9, 7, 23, 813, 63, 15, 157, 3, 4849, 15, 2780, 3, 17, 23, 26, 1639, 836, 4665, 140, 904, 76, 107, 23, 3, 10648, 17, 4476, 5, 96, 567, 9, 107, 3, 10648, 17, 4476, 3, 63, 1468, 3650, 9, 3, 16864, 9, 23, 3, 9, 26, 138, 9, 107, 3, 76, 17, 9, 348, 63, 9, 3650, 9, 13983, 9, 813, 63, 15, 157, 34, 76, 1005, 9, 3, 26, 173, 16296, 3304, 15688, 83, 9, 23, 10447, 2666, 157, 7, 77, 63, 9, 7692, 53, 17871, 144, 142, 2370, 440, 3, 2729, 1408, 138, 6289, 3, 18, 7887, 2662, 26, 23, 813, 63, 15, 157, 3, 63, 1468, 3, 17, 1639, 1005, 9, 158, 2304, 1191, 152, 361, 7, 23, 157, 29, 63, 9, 142, 2370, 440, 3, 2729, 1408, 138, 6289, 3, 18, 1360, 3650, 9, 178, 83, 3304, 2637, 29, 63, 9, 3650, 9, 90, 8020, 146, 40, 76, 142, 7893, 9, 23, 276, 8544, 976, 528, 521, 7, 3129, 107, 63, 76, 5, 19294, 144, 36, 521, 7, 813, 63, 15, 157, 3, 63, 1468, 1227, 5768, 76, 291, 3304, 649, 23, 836, 89, 2046, 276, 8544, 16, 23, 140, 5952, 2168, 3, 29, 173, 9, 23, 4032, 9, 7, 23, 142, 346, 7, 291, 391, 102, 26755, 6467, 40, 23, 202, 5, 3129, 107, 63, 76, 1076, 1]], 'attention_mask': [[1, 1, 1, 1, 1, 1, 1, 1, 1, 1, 1, 1, 1, 1, 1, 1, 1, 1, 1, 1, 1, 1, 1, 1, 1, 1, 1, 1, 1, 1, 1, 1, 1, 1, 1, 1, 1, 1, 1, 1, 1, 1, 1, 1, 1, 1, 1, 1, 1, 1, 1, 1, 1, 1, 1, 1, 1, 1, 1, 1, 1, 1, 1, 1, 1, 1, 1, 1, 1, 1, 1, 1, 1, 1, 1, 1, 1, 1, 1, 1, 1, 1, 1, 1, 1, 1, 1, 1, 1, 1, 1, 1, 1, 1, 1, 1, 1, 1, 1, 1, 1, 1, 1, 1, 1, 1, 1, 1, 1, 1, 1, 1, 1, 1, 1, 1, 1, 1, 1, 1, 1, 1, 1, 1, 1, 1, 1, 1, 1, 1, 1, 1, 1, 1, 1, 1, 1, 1, 1, 1, 1, 1, 1, 1, 1, 1, 1, 1, 1, 1, 1, 1, 1, 1, 1, 1, 1, 1, 1, 1, 1, 1, 1, 1, 1, 1, 1, 1, 1, 1, 1, 1, 1, 1, 1, 1, 1, 1, 1, 1, 1, 1, 1, 1, 1, 1, 1, 1, 1, 1, 1, 1, 1, 1, 1, 1, 1, 1, 1, 1, 1, 1, 1, 1, 1, 1, 1, 1, 1, 1, 1, 1, 1, 1, 1, 1, 1, 1, 1, 1, 1, 1, 1, 1, 1, 1, 1, 1, 1, 1, 1, 1, 1, 1, 1, 1, 1, 1, 1, 1, 1, 1, 1, 1, 1, 1, 1, 1, 1, 1, 1, 1, 1, 1, 1, 1, 1, 1, 1, 1, 1, 1, 1, 1, 1, 1, 1, 1, 1, 1, 1, 1, 1, 1, 1, 1, 1, 1, 1, 1, 1, 1, 1, 1, 1, 1, 1, 1, 1, 1, 1, 1, 1, 1, 1, 1, 1, 1, 1, 1, 1, 1, 1, 1, 1, 1, 1, 1, 1, 1, 1, 1, 1, 1, 1, 1, 1], [1, 1, 1, 1, 1, 1, 1, 1, 1, 1, 1, 1, 1, 1, 1, 1, 1, 1, 1, 1, 1, 1, 1, 1, 1, 1, 1, 1, 1, 1, 1, 1, 1, 1, 1, 1, 1, 1, 1, 1, 1, 1, 1, 1, 1, 1, 1, 1, 1, 1, 1, 1, 1, 1, 1, 1, 1, 1, 1, 1, 1, 1, 1, 1, 1, 1, 1, 1, 1, 1, 1, 1, 1, 1, 1, 1, 1, 1, 1, 1, 1, 1, 1, 1, 1, 1, 1, 1, 1, 1, 1, 1, 1, 1, 1, 1, 1, 1, 1, 1, 1, 1, 1, 1, 1, 1, 1, 1, 1, 1, 1, 1, 1, 1, 1, 1, 1, 1, 1, 1, 1, 1, 1, 1, 1, 1, 1, 1, 1, 1, 1, 1, 1, 1, 1, 1, 1, 1, 1, 1, 1, 1, 1, 1, 1, 1, 1, 1, 1, 1, 1, 1, 1, 1, 1, 1, 1, 1, 1, 1, 1, 1, 1, 1, 1, 1, 1, 1, 1, 1, 1, 1, 1, 1, 1, 1, 1, 1, 1, 1, 1, 1, 1, 1, 1, 1, 1, 1, 1, 1, 1, 1, 1, 1, 1, 1, 1, 1, 1, 1, 1, 1, 1, 1, 1, 1, 1, 1, 1, 1, 1, 1, 1, 1, 1, 1, 1, 1, 1, 1, 1, 1, 1, 1, 1, 1, 1, 1, 1, 1, 1, 1, 1, 1, 1, 1, 1, 1, 1, 1, 1, 1, 1, 1, 1, 1, 1, 1, 1, 1, 1, 1, 1, 1, 1, 1, 1, 1, 1, 1, 1, 1, 1, 1, 1, 1, 1, 1, 1, 1, 1, 1, 1, 1, 1, 1, 1, 1, 1, 1, 1, 1, 1, 1, 1, 1, 1, 1, 1, 1, 1, 1, 1, 1, 1, 1, 1, 1, 1, 1, 1, 1, 1, 1, 1, 1, 1, 1, 1, 1, 1, 1, 1, 1, 1, 1, 1, 1, 1, 1, 1, 1, 1, 1, 1, 1, 1, 1, 1, 1, 1, 1, 1, 1, 1, 1, 1, 1, 1, 1, 1, 1, 1, 1, 1, 1, 1, 1, 1, 1, 1, 1, 1, 1, 1, 1, 1, 1, 1, 1, 1, 1, 1, 1, 1, 1, 1, 1, 1, 1, 1, 1, 1, 1, 1, 1, 1, 1, 1, 1, 1, 1, 1, 1, 1, 1, 1, 1, 1, 1, 1, 1, 1, 1, 1, 1, 1, 1, 1, 1, 1, 1, 1, 1, 1, 1, 1, 1, 1, 1, 1, 1, 1, 1, 1, 1, 1, 1, 1, 1, 1, 1, 1, 1, 1, 1, 1, 1, 1, 1, 1, 1, 1, 1, 1, 1, 1, 1, 1, 1, 1, 1, 1, 1, 1, 1, 1, 1, 1, 1, 1, 1, 1, 1, 1, 1, 1, 1, 1, 1, 1, 1, 1, 1, 1, 1, 1, 1, 1, 1, 1, 1, 1, 1, 1, 1, 1, 1, 1, 1, 1, 1, 1, 1, 1, 1, 1, 1, 1, 1, 1, 1, 1, 1, 1, 1, 1, 1, 1, 1, 1, 1, 1, 1, 1, 1, 1, 1, 1, 1, 1, 1]], 'labels': [[1610, 5543, 7922, 1191, 107, 1076, 14677, 1639, 1076, 8758, 1598, 3, 7, 9, 144, 813, 2260, 23, 3, 17, 9, 107, 202, 152, 3, 9, 8758, 9, 21554, 1227, 1793, 17551, 32, 6, 8642, 13877, 6, 142, 107, 53, 122, 9, 140, 51, 3007, 144, 158, 7, 49, 17, 9, 95, 9, 1720, 9, 3, 4437, 3810, 18, 4612, 3810, 5, 2821, 23, 26, 1639, 29, 63, 9, 1003, 42, 1468, 3, 449, 40, 1598, 9, 5, 1], [1266, 1583, 29, 2194, 19855, 23, 140, 4246, 302, 3304, 73, 17, 1598, 1076, 122, 9516, 302, 968, 813, 63, 15, 157, 649, 23, 836, 89, 2046, 749, 63, 15, 157, 1015, 122, 159, 10571, 6318, 41, 4176, 567, 201, 142, 1625, 9, 107, 3, 9, 26, 6820, 9, 3, 15, 7480, 9, 7, 23, 5837, 155, 15, 1915, 565, 4665, 152, 4511, 63, 18999, 152, 86, 89, 20484, 1598, 2905, 6783, 155, 9, 7, 41, 439, 6158, 4629, 61, 480, 1194, 15, 5288, 1793, 127, 2644, 1016, 2106, 26, 1468, 1915, 15, 4470, 30019, 29, 5, 18740, 202, 4550, 9022, 17, 152, 3, 4849, 15, 2780, 1028, 15, 2780, 3304, 8524, 3304, 3, 4031, 35, 9, 9358, 521, 107, 3, 1468, 1478, 152, 6, 90, 115, 23, 107, 8950, 9, 3, 7735, 23, 9, 2837, 3, 4343, 1639, 7, 152, 9, 152, 813, 63, 15, 157, 5, 1]]}"
            ]
          },
          "metadata": {},
          "execution_count": 70
        }
      ]
    },
    {
      "cell_type": "code",
      "source": [
        "tokenized_datasets = raw_datasets.map(preprocess_function, batched=True)"
      ],
      "metadata": {
        "colab": {
          "base_uri": "https://localhost:8080/"
        },
        "id": "0jeTqj-BO5Np",
        "outputId": "69b3aac1-7006-461e-e2d4-4292cdaa5fd6"
      },
      "execution_count": null,
      "outputs": [
        {
          "output_type": "stream",
          "name": "stderr",
          "text": [
            "WARNING:datasets.arrow_dataset:Loading cached processed dataset at /root/.cache/huggingface/datasets/csebuetnlp___xlsum/indonesian/2.0.0/518ab0af76048660bcc2240ca6e8692a977c80e384ffb18fdddebaca6daebdce/cache-f99d3e3aa922c67d.arrow\n",
            "WARNING:datasets.arrow_dataset:Loading cached processed dataset at /root/.cache/huggingface/datasets/csebuetnlp___xlsum/indonesian/2.0.0/518ab0af76048660bcc2240ca6e8692a977c80e384ffb18fdddebaca6daebdce/cache-f0736730697c0ba5.arrow\n",
            "WARNING:datasets.arrow_dataset:Loading cached processed dataset at /root/.cache/huggingface/datasets/csebuetnlp___xlsum/indonesian/2.0.0/518ab0af76048660bcc2240ca6e8692a977c80e384ffb18fdddebaca6daebdce/cache-df4f604e18b64832.arrow\n"
          ]
        }
      ]
    },
    {
      "cell_type": "markdown",
      "source": [
        "# **Fine-Tuning the model**"
      ],
      "metadata": {
        "id": "MNuSc6-SRwd2"
      }
    },
    {
      "cell_type": "code",
      "source": [
        "from transformers import TFAutoModelForSeq2SeqLM, DataCollatorForSeq2Seq\n",
        "\n",
        "model = TFAutoModelForSeq2SeqLM.from_pretrained(model_checkpoint)"
      ],
      "metadata": {
        "id": "2pZ6HReCR3iH"
      },
      "execution_count": null,
      "outputs": []
    },
    {
      "cell_type": "code",
      "source": [
        "batch_size = 8\n",
        "learning_rate = 2e-5\n",
        "weight_decay = 0.01\n",
        "num_train_epochs = 5\n",
        "\n",
        "# model_name = model_checkpoint.split(\"/\")[-1]\n",
        "# push_to_hub_model_id = f\"assami-{model_name}-finetuned-xsum\""
      ],
      "metadata": {
        "id": "uq5agT1cSEQ2"
      },
      "execution_count": null,
      "outputs": []
    },
    {
      "cell_type": "code",
      "source": [
        "data_collator = DataCollatorForSeq2Seq(tokenizer, model=model, return_tensors=\"tf\")"
      ],
      "metadata": {
        "id": "s1LWTJ0-SIkR"
      },
      "execution_count": null,
      "outputs": []
    },
    {
      "cell_type": "code",
      "source": [
        "tokenized_datasets[\"validation\"]"
      ],
      "metadata": {
        "id": "NsZUy035SHP1"
      },
      "execution_count": null,
      "outputs": []
    },
    {
      "cell_type": "code",
      "source": [
        "train_dataset = tokenized_datasets[\"test\"].to_tf_dataset(\n",
        "    batch_size=batch_size,\n",
        "    columns=[\"input_ids\", \"attention_mask\", \"labels\"],\n",
        "    shuffle=True,\n",
        "    collate_fn=data_collator,\n",
        ")\n",
        "validation_dataset = tokenized_datasets[\"validation\"].to_tf_dataset(\n",
        "    batch_size=8,\n",
        "    columns=[\"input_ids\", \"attention_mask\", \"labels\"],\n",
        "    shuffle=False,\n",
        "    collate_fn=data_collator,\n",
        ")\n",
        "generation_dataset = (\n",
        "    tokenized_datasets[\"validation\"]\n",
        "    .shuffle()\n",
        "    .select(list(range(200)))\n",
        "    .to_tf_dataset(\n",
        "        batch_size=8,\n",
        "        columns=[\"input_ids\", \"attention_mask\", \"labels\"],\n",
        "        shuffle=False,\n",
        "        collate_fn=data_collator,\n",
        "    )\n",
        ")"
      ],
      "metadata": {
        "id": "g3fLelRhSKxY"
      },
      "execution_count": null,
      "outputs": []
    },
    {
      "cell_type": "code",
      "source": [
        "from transformers import AdamWeightDecay\n",
        "import tensorflow as tf\n",
        "\n",
        "optimizer = AdamWeightDecay(learning_rate=learning_rate, weight_decay_rate=weight_decay)\n",
        "model.compile(optimizer=optimizer)"
      ],
      "metadata": {
        "id": "a3nT4bHkSYM7"
      },
      "execution_count": null,
      "outputs": []
    },
    {
      "cell_type": "code",
      "source": [
        "import numpy as np\n",
        "import nltk\n",
        "\n",
        "\n",
        "def metric_fn(eval_predictions):\n",
        "    predictions, labels = eval_predictions\n",
        "    decoded_predictions = tokenizer.batch_decode(predictions, skip_special_tokens=True)\n",
        "    for label in labels:\n",
        "        label[label < 0] = tokenizer.pad_token_id  # Replace masked label tokens\n",
        "    decoded_labels = tokenizer.batch_decode(labels, skip_special_tokens=True)\n",
        "    # Rouge expects a newline after each sentence\n",
        "    decoded_predictions = [\n",
        "        \"\\n\".join(nltk.sent_tokenize(pred.strip())) for pred in decoded_predictions\n",
        "    ]\n",
        "    decoded_labels = [\n",
        "        \"\\n\".join(nltk.sent_tokenize(label.strip())) for label in decoded_labels\n",
        "    ]\n",
        "    result = metric.compute(\n",
        "        predictions=decoded_predictions, references=decoded_labels, use_stemmer=True\n",
        "    )\n",
        "    # Extract a few results\n",
        "    result = {key: value.mid.fmeasure * 100 for key, value in result.items()}\n",
        "    # Add mean generated length\n",
        "    prediction_lens = [\n",
        "        np.count_nonzero(pred != tokenizer.pad_token_id) for pred in predictions\n",
        "    ]\n",
        "    result[\"gen_len\"] = np.mean(prediction_lens)\n",
        "\n",
        "    return result"
      ],
      "metadata": {
        "id": "ic-ypSUPSaxe"
      },
      "execution_count": null,
      "outputs": []
    },
    {
      "cell_type": "code",
      "source": [
        "import nltk\n",
        "nltk.download('punkt')"
      ],
      "metadata": {
        "id": "Tk-kJfUoQF_P"
      },
      "execution_count": null,
      "outputs": []
    },
    {
      "cell_type": "code",
      "source": [
        "# from transformers.keras_callbacks import PushToHubCallback, KerasMetricCallback\n",
        "# from tensorflow.keras.callbacks import TensorBoard\n",
        "from transformers.keras_callbacks import KerasMetricCallback\n",
        "\n",
        "# tensorboard_callback = TensorBoard(log_dir=\"./summarization_model_save/logs\")\n",
        "\n",
        "# push_to_hub_callback = PushToHubCallback(\n",
        "#     output_dir=\"./summarization_model_save\",\n",
        "#     tokenizer=tokenizer,\n",
        "#     hub_model_id=push_to_hub_model_id,\n",
        "# )\n",
        "\n",
        "metric_callback = KerasMetricCallback(\n",
        "    metric_fn, eval_dataset=generation_dataset, predict_with_generate=True\n",
        ")\n",
        "\n",
        "# callbacks = [metric_callback, tensorboard_callback, push_to_hub_callback]\n",
        "\n",
        "model.fit(\n",
        "    train_dataset, validation_data=validation_dataset, epochs=3, verbose=2, callbacks=[metric_callback]\n",
        ")"
      ],
      "metadata": {
        "id": "u9x-JWn8Sd7H"
      },
      "execution_count": null,
      "outputs": []
    }
  ]
}